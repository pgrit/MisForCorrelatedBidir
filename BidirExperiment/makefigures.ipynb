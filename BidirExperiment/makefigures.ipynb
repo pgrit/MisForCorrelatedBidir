{
 "cells": [
  {
   "cell_type": "code",
   "execution_count": null,
   "metadata": {},
   "outputs": [],
   "source": [
    "import numpy as np\n",
    "import figuregen\n",
    "from figuregen import util\n",
    "import IPython\n",
    "from IPython.display import Image\n",
    "from figurelayout import make_figure, convert, loadpdf\n",
    "\n",
    "def display(pdfname):\n",
    "    img = convert(pdfname)\n",
    "    IPython.display.display(Image(pdfname.replace('.pdf', '.png')))"
   ]
  },
  {
   "cell_type": "code",
   "execution_count": null,
   "metadata": {
    "tags": []
   },
   "outputs": [],
   "source": [
    "make_figure(\"Results/LivingRoom\",\n",
    "    util.image.Cropbox(top=40*2, left=200*2, width=64*2, height=48*2, scale=10),\n",
    "    util.image.Cropbox(top=10*2, left=10*2, width=64*2, height=48*2, scale=10),\n",
    "    \"Results/LivingRoom-BPT.pdf\", \"\\\\textsc{Living Room}\", exposure=0, show_method_names=True,\n",
    "    times=[\"195s\", \"195s\", \"220s\", \"195s\"])\n",
    "display(f\"Results/LivingRoom-BPT.pdf\")"
   ]
  },
  {
   "cell_type": "code",
   "execution_count": null,
   "metadata": {
    "tags": []
   },
   "outputs": [],
   "source": [
    "make_figure(\"Results/ModernHall\",\n",
    "    util.image.Cropbox(top=300, left=80, width=64*2, height=48*2, scale=10),\n",
    "    util.image.Cropbox(top=280*2, left=280*2, width=64*2, height=48*2, scale=10),\n",
    "    \"Results/ModernHall-BPT.pdf\", \"\\\\textsc{Modern Hall}\", exposure=1, show_method_names=False,\n",
    "    times=[\"155s\", \"155s\", \"210s\", \"155s\"])\n",
    "display(f\"Results/ModernHall-BPT.pdf\")"
   ]
  },
  {
   "cell_type": "code",
   "execution_count": null,
   "metadata": {
    "tags": []
   },
   "outputs": [],
   "source": [
    "make_figure(\"Results/MinimalistWhiteRoom\",\n",
    "    util.image.Cropbox(top=90*2, left=5*2, width=64*2, height=48*2, scale=10),\n",
    "    util.image.Cropbox(top=150*2, left=270*2, width=64*2, height=48*2, scale=10),\n",
    "    \"Results/MinimalistWhiteRoom-BPT.pdf\", \"\\\\textsc{Minimalist White Room}\", exposure=1,\n",
    "    times=[\"75s\", \"75s\", \"85s\", \"75s\"])\n",
    "display(f\"Results/MinimalistWhiteRoom-BPT.pdf\")"
   ]
  },
  {
   "cell_type": "code",
   "execution_count": null,
   "metadata": {
    "tags": []
   },
   "outputs": [],
   "source": [
    "make_figure(\"Results/BananaRange\",\n",
    "    util.image.Cropbox(top=20*2, left=370*2, width=64*2, height=48*2, scale=10),\n",
    "    util.image.Cropbox(top=400*2, left=530*2, width=64*2, height=48*2, scale=10),\n",
    "    \"Results/BananaRange-BPT.pdf\", \"\\\\textsc{Banana Range}\", exposure=1,\n",
    "    times=[\"260s\", \"260s\", \"280s\", \"260s\"])\n",
    "display(f\"Results/BananaRange-BPT.pdf\")"
   ]
  },
  {
   "cell_type": "code",
   "execution_count": null,
   "metadata": {
    "tags": []
   },
   "outputs": [],
   "source": [
    "make_figure(\"Results/ContemporaryBathroom\",\n",
    "    util.image.Cropbox(top=90*2, left=570*2, width=64*2, height=48*2, scale=10),\n",
    "    util.image.Cropbox(top=300*2, left=190*2, width=64*2, height=48*2, scale=10),\n",
    "    \"Results/ContemporaryBathroom-BPT.pdf\", \"\\\\textsc{Bathroom}\", exposure=1,\n",
    "    times=[\"90s\", \"90s\", \"93s\", \"90s\"])\n",
    "display(f\"Results/ContemporaryBathroom-BPT.pdf\")"
   ]
  },
  {
   "cell_type": "code",
   "execution_count": null,
   "metadata": {
    "tags": []
   },
   "outputs": [],
   "source": [
    "make_figure(\"results/HomeOffice\",\n",
    "    util.image.Cropbox(top=80*2, left=570*2, width=64*2, height=48*2, scale=10),\n",
    "    util.image.Cropbox(top=170*2, left=345*2, width=64*2, height=48*2, scale=10),\n",
    "    \"results/HomeOffice-BPT.pdf\", \"\\\\textsc{Home Office}\", exposure=1,\n",
    "    times=[\"260s\", \"260s\", \"290s\", \"260s\"])\n",
    "display(f\"results/HomeOffice-BPT.pdf\")"
   ]
  },
  {
   "cell_type": "code",
   "execution_count": null,
   "metadata": {
    "tags": []
   },
   "outputs": [],
   "source": [
    "make_figure(\"Results/RoughGlasses\",\n",
    "    util.image.Cropbox(top=240*2, left=445*2, width=64*2, height=48*2, scale=10),\n",
    "    util.image.Cropbox(top=260*2, left=525*2, width=64*2, height=48*2, scale=10),\n",
    "    \"Results/RoughGlasses-BPT.pdf\", \"\\\\textsc{Rough Glasses}\", exposure=0,\n",
    "    times=[\"210s\", \"210s\", \"210s\", \"210s\"])\n",
    "display(f\"Results/RoughGlasses-BPT.pdf\")"
   ]
  },
  {
   "cell_type": "code",
   "execution_count": null,
   "metadata": {
    "tags": []
   },
   "outputs": [],
   "source": [
    "make_figure(\"Results/RoughGlassesIndirect\",\n",
    "    util.image.Cropbox(top=240*2, left=150*2, width=64*2, height=48*2, scale=10),\n",
    "    util.image.Cropbox(top=290*2, left=350*2, width=64*2, height=48*2, scale=10),\n",
    "    \"Results/RoughGlassesIndirect-BPT.pdf\", \"\\\\textsc{Rough Glasses}\", exposure=1,\n",
    "    times=[\"120s\", \"120s\", \"140s\", \"120s\"])\n",
    "display(f\"Results/RoughGlassesIndirect-BPT.pdf\")"
   ]
  },
  {
   "cell_type": "code",
   "execution_count": null,
   "metadata": {
    "tags": []
   },
   "outputs": [],
   "source": [
    "make_figure(\"Results/IndirectRoom\",\n",
    "    util.image.Cropbox(top=430, left=300, width=64*2, height=48*2, scale=10),\n",
    "    util.image.Cropbox(top=747, left=1067, width=64*2, height=48*2, scale=10),\n",
    "    \"Results/IndirectRoom-BPT.pdf\", \"\\\\textsc{Indirect Room}\", exposure=0,\n",
    "    times=[\"155s\", \"155s\", \"180s\", \"155s\"])\n",
    "display(f\"Results/IndirectRoom-BPT.pdf\")"
   ]
  },
  {
   "cell_type": "code",
   "execution_count": null,
   "metadata": {},
   "outputs": [],
   "source": []
  }
 ],
 "metadata": {
  "kernelspec": {
   "display_name": "Python 3.8.5 64-bit",
   "language": "python",
   "name": "python38564bitb00fcc2ed04b4139ae7e89e9cb9cd7fe"
  },
  "language_info": {
   "codemirror_mode": {
    "name": "ipython",
    "version": 3
   },
   "file_extension": ".py",
   "mimetype": "text/x-python",
   "name": "python",
   "nbconvert_exporter": "python",
   "pygments_lexer": "ipython3",
   "version": "3.8.5"
  }
 },
 "nbformat": 4,
 "nbformat_minor": 2
}