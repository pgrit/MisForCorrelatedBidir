{
 "cells": [
  {
   "cell_type": "code",
   "execution_count": null,
   "metadata": {},
   "outputs": [],
   "source": [
    "import numpy as np\n",
    "import figuregen\n",
    "from figuregen import util\n",
    "import IPython\n",
    "from IPython.display import Image\n",
    "from figurelayout import make_figure, convert, loadpdf\n",
    "\n",
    "def display(pdfname):\n",
    "    img = convert(pdfname)\n",
    "    IPython.display.display(Image(pdfname.replace('.pdf', '.png')))"
   ]
  },
  {
   "cell_type": "code",
   "execution_count": null,
   "metadata": {
    "tags": []
   },
   "outputs": [],
   "source": [
    "make_figure(\"Results/RoughGlassesIndirect\",\n",
    "    util.image.Cropbox(top=440, left=300, width=64*2, height=48*2, scale=10),\n",
    "    util.image.Cropbox(top=500, left=900, width=64*2, height=48*2, scale=10),\n",
    "    \"./Results/RoughGlassesIndirect.pdf\", \"\\\\textsc{Rough Glasses}\", exposure=1,\n",
    "    times=[\"84s\", \"84s\", \"400s\", \"84s\", \"810s\"])\n",
    "scene = \"Results/RoughGlassesIndirect\"\n",
    "display(f\"{scene}.pdf\")"
   ]
  },
  {
   "cell_type": "code",
   "execution_count": null,
   "metadata": {
    "tags": []
   },
   "outputs": [],
   "source": [
    "make_figure(\"Results/MinimalistWhiteRoom\",\n",
    "    util.image.Cropbox(top=90*2, left=5*2, width=64*2, height=48*2, scale=10),\n",
    "    util.image.Cropbox(top=150*2, left=270*2, width=64*2, height=48*2, scale=10),\n",
    "    \"./Results/MinimalistWhiteRoom.pdf\", \"\\\\textsc{Minimalist Room}\", exposure=0, show_method_names=False,\n",
    "    times=[\"44s\", \"44s\", \"56s\", \"44s\", \"280s\"])\n",
    "scene = \"Results/MinimalistWhiteRoom\"\n",
    "display(f\"{scene}.pdf\")"
   ]
  },
  {
   "cell_type": "code",
   "execution_count": null,
   "metadata": {
    "tags": []
   },
   "outputs": [],
   "source": [
    "make_figure(\"Results/HomeOffice\",\n",
    "    util.image.Cropbox(top=80*2, left=570*2, width=64*2, height=48*2, scale=10),\n",
    "    util.image.Cropbox(top=170*2, left=345*2, width=64*2, height=48*2, scale=10),\n",
    "    \"./Results/HomeOffice.pdf\", \"\\\\textsc{Home Office} \\\\texstsf{(a.k.a. The New Normal)}\", exposure=1, show_method_names=False,\n",
    "    times=[\"52s\", \"52s\", \"70s\", \"52s\", \"320s\"])\n",
    "scene = \"Results/HomeOffice\"\n",
    "display(f\"{scene}.pdf\")"
   ]
  },
  {
   "cell_type": "code",
   "execution_count": null,
   "metadata": {
    "tags": []
   },
   "outputs": [],
   "source": [
    "scene = \"Results/BananaRange\"\n",
    "make_figure(\"Results/BananaRange\",\n",
    "    util.image.Cropbox(top=20*2, left=370*2, width=64*2, height=48*2, scale=10),\n",
    "    util.image.Cropbox(top=400*2, left=530*2, width=64*2, height=48*2, scale=10),\n",
    "    \"./Results/BananaRange.pdf\", \"\\\\textsc{Banana Range}\", exposure=1.5, show_method_names=True,\n",
    "    times=[\"33s\", \"33s\", \"45s\", \"33s\", \"220s\"])\n",
    "display(f\"{scene}.pdf\")"
   ]
  },
  {
   "cell_type": "code",
   "execution_count": null,
   "metadata": {
    "tags": []
   },
   "outputs": [],
   "source": [
    "make_figure(\"Results/LivingRoom\",\n",
    "    util.image.Cropbox(top=90*2, left=570*2, width=64*2, height=48*2, scale=10),\n",
    "    util.image.Cropbox(top=300*2, left=330*2, width=64*2, height=48*2, scale=10),\n",
    "    \"./Results/LivingRoom.pdf\", \"\\\\textsc{Livingroom}\", exposure=0, show_method_names=True,\n",
    "    times=[\"270s\", \"270s\", \"890s\", \"270s\", \"1800s\"])\n",
    "scene = \"Results/LivingRoom\"\n",
    "display(f\"{scene}.pdf\")"
   ]
  },
  {
   "cell_type": "code",
   "execution_count": null,
   "metadata": {
    "tags": []
   },
   "outputs": [],
   "source": [
    "scene = \"Results/ModernHall\"\n",
    "make_figure(scene,\n",
    "    util.image.Cropbox(top=200*2, left=30*2, width=64*2, height=48*2, scale=10),\n",
    "    util.image.Cropbox(top=400*2, left=530*2, width=64*2, height=48*2, scale=10),\n",
    "    f\"{scene}.pdf\", \"\\\\textsc{Modern Hall}\", exposure=1,\n",
    "    times=[\"35s\", \"35s\", \"50s\", \"35s\", \"240s\"])\n",
    "display(f\"{scene}.pdf\")"
   ]
  },
  {
   "cell_type": "code",
   "execution_count": null,
   "metadata": {
    "tags": []
   },
   "outputs": [],
   "source": [
    "make_figure(\"Results/ContemporaryBathroom\",\n",
    "    util.image.Cropbox(top=90*2, left=570*2, width=64*2, height=48*2, scale=10),\n",
    "    util.image.Cropbox(top=300*2, left=190*2, width=64*2, height=48*2, scale=10),\n",
    "    \"./Results/ContemporaryBathroom.pdf\", \"\\\\textsc{Bathroom}\",\n",
    "    times=[\"41s\", \"41s\", \"55s\", \"41s\", \"260s\"])\n",
    "scene = \"Results/ContemporaryBathroom\"\n",
    "display(f\"{scene}.pdf\")"
   ]
  },
  {
   "cell_type": "code",
   "execution_count": null,
   "metadata": {
    "tags": []
   },
   "outputs": [],
   "source": [
    "make_figure(\"Results/RoughGlasses\",\n",
    "    util.image.Cropbox(top=240*2, left=445*2, width=64*2, height=48*2, scale=10),\n",
    "    util.image.Cropbox(top=260*2, left=525*2, width=64*2, height=48*2, scale=10),\n",
    "    \"./Results/RoughGlasses.pdf\", \"\\\\textsc{Rough Glasses}\",\n",
    "    times=[\"20s\", \"20s\", \"100s\", \"20s\", \"485s\"])\n",
    "scene = \"Results/RoughGlasses\"\n",
    "display(f\"{scene}.pdf\")"
   ]
  },
  {
   "cell_type": "code",
   "execution_count": null,
   "metadata": {
    "tags": []
   },
   "outputs": [],
   "source": [
    "make_figure(\"Results/IndirectRoom\",\n",
    "    util.image.Cropbox(top=430, left=300, width=64*2, height=48*2, scale=10),\n",
    "    util.image.Cropbox(top=747, left=1067, width=64*2, height=48*2, scale=10),\n",
    "    \"./Results/IndirectRoom.pdf\", \"\\\\textsc{Indirect Room}\", exposure=-0.5, show_method_names=True,\n",
    "    times=[\"150s\", \"150s\", \"470s\", \"150s\", \"940s\"])\n",
    "scene = \"Results/IndirectRoom\"\n",
    "display(f\"{scene}.pdf\")"
   ]
  },
  {
   "cell_type": "code",
   "execution_count": null,
   "metadata": {},
   "outputs": [],
   "source": []
  }
 ],
 "metadata": {
  "kernelspec": {
   "display_name": "Python 3.8.5 64-bit",
   "language": "python",
   "name": "python38564bitb00fcc2ed04b4139ae7e89e9cb9cd7fe"
  },
  "language_info": {
   "codemirror_mode": {
    "name": "ipython",
    "version": 3
   },
   "file_extension": ".py",
   "mimetype": "text/x-python",
   "name": "python",
   "nbconvert_exporter": "python",
   "pygments_lexer": "ipython3",
   "version": "3.8.5"
  }
 },
 "nbformat": 4,
 "nbformat_minor": 2
}