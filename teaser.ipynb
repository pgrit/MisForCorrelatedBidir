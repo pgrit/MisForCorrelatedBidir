{
 "cells": [
  {
   "cell_type": "code",
   "execution_count": null,
   "metadata": {},
   "outputs": [],
   "source": [
    "import figuregen\n",
    "from figuregen import util\n",
    "import pyexr\n",
    "from pdf2image import convert_from_path\n",
    "import IPython\n",
    "from IPython.display import Image\n",
    "import numpy as np\n",
    "import cv2\n",
    "import os\n",
    "\n",
    "def loadpdf(pdfname):\n",
    "    images = convert_from_path(pdfname, dpi=1000)\n",
    "    return np.array(images[0])\n",
    "\n",
    "def convert(pdfname):\n",
    "    img = loadpdf(pdfname)\n",
    "    cv2.imwrite(pdfname.replace('.pdf', '.png'), cv2.cvtColor(img, cv2.COLOR_RGB2BGR))\n",
    "\n",
    "def display(pdfname):\n",
    "    img = convert(pdfname)\n",
    "    IPython.display.display(Image(pdfname.replace('.pdf', '.png')))"
   ]
  },
  {
   "cell_type": "code",
   "execution_count": null,
   "metadata": {},
   "outputs": [],
   "source": [
    "method_names = [ \"Balance\", \"\\\\textbf{Ours}\" ]"
   ]
  },
  {
   "cell_type": "code",
   "execution_count": null,
   "metadata": {},
   "outputs": [],
   "source": [
    "def make_figure(scene_folder_vcm, scene_folder_bdpt, crop_vcm, crop_bdpt, filename, scene_name, exposure=0, show_method_names=True):\n",
    "    vcm_images = [\n",
    "        pyexr.read(os.path.join(scene_folder_vcm, folder, \"render.exr\"))\n",
    "        for folder in [ \"Vcm\", \"PdfRatioCombined\" ]\n",
    "    ]\n",
    "    bdpt_images = [\n",
    "        pyexr.read(os.path.join(scene_folder_bdpt, folder, \"render.exr\"))\n",
    "        for folder in [ \"BidirSplit\", \"PdfRatio\" ]\n",
    "    ]\n",
    "    reference_image = pyexr.read(os.path.join(scene_folder_vcm, \"reference.exr\"))\n",
    "\n",
    "    # Compute error values\n",
    "    vcm_errors = [\n",
    "        util.image.relative_mse(m, reference_image, 0.01)\n",
    "        for m in vcm_images\n",
    "    ]\n",
    "    bdpt_errors = [\n",
    "        util.image.relative_mse(m, reference_image, 0.01)\n",
    "        for m in bdpt_images\n",
    "    ]\n",
    "    error_metric_name = \"relMSE\"\n",
    "\n",
    "    def tonemap(img):\n",
    "        return figuregen.JPEG(util.image.lin_to_srgb(util.image.exposure(img, exposure)), quality=80)\n",
    "\n",
    "    # Reference image\n",
    "    ref_grid = figuregen.Grid(1, 1)\n",
    "    \n",
    "    # Image and markers for the crops\n",
    "    elem = ref_grid.get_element(0, 0)\n",
    "    elem.set_image(tonemap(reference_image))\n",
    "    elem.set_marker(crop_vcm.get_marker_pos(), crop_vcm.get_marker_size(), color=[255,255,255], linewidth_pt=1)\n",
    "    elem.set_marker(crop_bdpt.get_marker_pos(), crop_bdpt.get_marker_size(), color=[255,255,255], linewidth_pt=1)\n",
    "\n",
    "    # Set paddings and caption heights to align with the grid module\n",
    "    layout = ref_grid.get_layout()\n",
    "    layout.set_col_titles(\"top\", fontsize=8, field_size_mm=2.8, offset_mm=0.25)\n",
    "    layout.set_caption(height_mm=3, fontsize=8, offset_mm=0.25)\n",
    "    layout.set_padding(right=1)\n",
    "\n",
    "    def crop_error(img, crop):\n",
    "        cropped_image = crop.crop(img)\n",
    "        cropped_reference = crop.crop(reference_image)\n",
    "        return util.image.relative_mse(cropped_image, cropped_reference, 0.01)\n",
    "\n",
    "    crop_errors_vcm = [ crop_error(m, crop_vcm) for m in vcm_images ]\n",
    "    crop_errors_bdpt = [ crop_error(m, crop_bdpt) for m in bdpt_images ]\n",
    "\n",
    "    def error_string(index, array):\n",
    "        value = f\"${array[index]:.2f}$ \"\n",
    "        if index == 0:\n",
    "            speedup = \"$(1.00\\\\times)$\"\n",
    "        elif index == 1:\n",
    "            speedup = \"\\\\textbf{\" + f\"$(\\\\mathbf{{{array[index]/array[0]:.1f}}}\\\\times)$\" + \"}\"\n",
    "        else:\n",
    "            speedup = f\"$({array[index]/array[0]:.1f}\\\\times)$\"\n",
    "        return value + speedup\n",
    "\n",
    "    # Comparison grid\n",
    "    crop_grid = figuregen.Grid(num_cols=len(method_names)+1, num_rows=2)\n",
    "    for col in range(0, len(method_names)):\n",
    "        crop_grid.get_element(1, col).set_image(tonemap(crop_vcm.crop(vcm_images[col])))\n",
    "        crop_grid.get_element(1, col).set_caption(error_string(col, vcm_errors))\n",
    "\n",
    "        crop_grid.get_element(0, col).set_image(tonemap(crop_bdpt.crop(bdpt_images[col])))\n",
    "        crop_grid.get_element(0, col).set_caption(error_string(col, bdpt_errors))\n",
    "\n",
    "    crop_grid.get_element(1, 2).set_image(tonemap(crop_vcm.crop(reference_image)))\n",
    "    crop_grid.get_element(1, 2).set_caption(f\"{error_metric_name}\")\n",
    "\n",
    "    crop_grid.get_element(0, 2).set_image(tonemap(crop_bdpt.crop(reference_image)))\n",
    "    crop_grid.get_element(0, 2).set_caption(f\"{error_metric_name}\")\n",
    "\n",
    "    # Column titles\n",
    "    crop_grid.set_col_titles(\"top\", [\"a) Balance heuristic\", \"b) \\\\textbf{Ours}\", \"c) Reference\"])\n",
    "    crop_grid.set_row_titles(\"left\", [\"BDPT w/ splitting\", \"VCM\"])\n",
    "\n",
    "    # Grid layout\n",
    "    layout = crop_grid.get_layout()\n",
    "    layout.set_padding(column=1, row=0.5, left=1)\n",
    "    layout.set_col_titles(\"top\", fontsize=8, field_size_mm=2.8, offset_mm=0.25)\n",
    "    layout.set_row_titles(\"left\", fontsize=8, field_size_mm=2.8, offset_mm=0.25)\n",
    "    layout.set_caption(height_mm=3, fontsize=8, offset_mm=0.25)\n",
    "\n",
    "    width_cm = 17.7\n",
    "    figuregen.horizontal_figure([ref_grid, crop_grid], width_cm, filename, tex_packages=[\"{dfadobe}\"])"
   ]
  },
  {
   "cell_type": "code",
   "execution_count": null,
   "metadata": {
    "tags": []
   },
   "outputs": [],
   "source": [
    "make_figure(\"./VcmExperiment/Results/IndirectRoom\", \"./BidirExperiment/Results-x10/IndirectRoom\",\n",
    "    util.image.Cropbox(top=700, left=1100, width=150, height=96, scale=10),\n",
    "    util.image.Cropbox(top=300, left=10, width=150, height=96, scale=10),\n",
    "    \"Teaser.pdf\", \"\\\\textsc{Indirect Room}\", exposure=0)\n",
    "display(\"Teaser.pdf\")"
   ]
  }
 ],
 "metadata": {
  "kernelspec": {
   "name": "python3",
   "display_name": "Python 3.9.1 64-bit",
   "metadata": {
    "interpreter": {
     "hash": "ac59ebe37160ed0dfa835113d9b8498d9f09ceb179beaac4002f036b9467c963"
    }
   }
  },
  "language_info": {
   "codemirror_mode": {
    "name": "ipython",
    "version": 3
   },
   "file_extension": ".py",
   "mimetype": "text/x-python",
   "name": "python",
   "nbconvert_exporter": "python",
   "pygments_lexer": "ipython3",
   "version": "3.9.1-final"
  }
 },
 "nbformat": 4,
 "nbformat_minor": 4
}